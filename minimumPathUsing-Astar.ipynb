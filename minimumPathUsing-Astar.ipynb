{
  "nbformat": 4,
  "nbformat_minor": 0,
  "metadata": {
    "colab": {
      "provenance": []
    },
    "kernelspec": {
      "name": "python3",
      "display_name": "Python 3"
    },
    "language_info": {
      "name": "python"
    }
  },
  "cells": [
    {
      "cell_type": "code",
      "execution_count": 1,
      "metadata": {
        "id": "PU3_xl2V5euQ",
        "outputId": "f628394b-ab61-4e23-ffff-385723cc15cc",
        "colab": {
          "base_uri": "https://localhost:8080/"
        }
      },
      "outputs": [
        {
          "output_type": "stream",
          "name": "stdout",
          "text": [
            "Current Node: (1, 1)\n",
            "Open Set: [(0, 1), (1, 0)]\n",
            "Current Node: (0, 1)\n",
            "Open Set: [(0, 2), (1, 0), (0, 0)]\n",
            "Current Node: (0, 2)\n",
            "Open Set: [(0, 3), (1, 0), (0, 0)]\n",
            "Current Node: (0, 3)\n",
            "Open Set: [(1, 0), (1, 3), (0, 0)]\n",
            "Current Node: (1, 0)\n",
            "Open Set: [(1, 3), (2, 0), (0, 0)]\n",
            "Current Node: (1, 3)\n",
            "Open Set: [(2, 0), (2, 3), (0, 0)]\n",
            "Current Node: (2, 0)\n",
            "Open Set: [(2, 3), (3, 0), (0, 0)]\n",
            "Current Node: (2, 3)\n",
            "Open Set: [(3, 0), (3, 3), (0, 0), (2, 2)]\n",
            "Current Node: (3, 0)\n",
            "Open Set: [(3, 1), (3, 3), (0, 0), (2, 2), (4, 0)]\n",
            "Current Node: (3, 1)\n",
            "Open Set: [(3, 2), (3, 3), (0, 0), (2, 2), (4, 0), (4, 1)]\n",
            "Current Node: (3, 2)\n",
            "Open Set: [(3, 3), (0, 0), (2, 2), (4, 0), (4, 1), (4, 2)]\n",
            "Path: [(1, 1), (3, 3)]\n",
            "Total Cost: 6\n"
          ]
        }
      ],
      "source": [
        "def heuristic_cost_estimate(current, target):\n",
        "    # Calculate the Manhattan distance heuristic\n",
        "    return abs(current[0] - target[0]) + abs(current[1] - target[1])\n",
        "\n",
        "def a_star(grid):\n",
        "    rows, cols = len(grid), len(grid[0])\n",
        "    start = (1,1)\n",
        "    target = (3,3)\n",
        "\n",
        "    # List to store open set\n",
        "    open_set = [(0, start)]\n",
        "\n",
        "    # Dictionary to store costs\n",
        "    g_scores = {start: 0}\n",
        "\n",
        "    while open_set:\n",
        "        current_cost, current_node = min(open_set)\n",
        "        open_set.remove((current_cost, current_node))\n",
        "\n",
        "        if current_node == target:\n",
        "            # Reconstruct path if the target is reached\n",
        "            path = []\n",
        "            total_cost = current_cost\n",
        "            while current_node in g_scores:\n",
        "                path.append(current_node)\n",
        "                current_node = g_scores[current_node]\n",
        "            path.append(start)  # Include the start node in the path\n",
        "            return path[::-1], total_cost\n",
        "\n",
        "        for i, j in [(1, 0), (-1, 0), (0, 1), (0, -1)]:\n",
        "            neighbor = (current_node[0] + i, current_node[1] + j)\n",
        "\n",
        "            if not (0 <= neighbor[0] < rows and 0 <= neighbor[1] < cols) or grid[neighbor[0]][neighbor[1]] == 1:\n",
        "                continue\n",
        "\n",
        "            tentative_g_score = g_scores[current_node] + 1  # Assuming each move has a cost of 1\n",
        "\n",
        "            if neighbor not in g_scores or tentative_g_score < g_scores[neighbor]:\n",
        "                # Update the path and cost if a better path is found\n",
        "                g_scores[neighbor] = tentative_g_score\n",
        "                f_score = tentative_g_score + heuristic_cost_estimate(neighbor, target)\n",
        "                open_set.append((f_score, neighbor))\n",
        "\n",
        "        open_set.sort()  # Sort the open set based on f_score\n",
        "\n",
        "        # Display intermediate steps\n",
        "        print(\"Current Node:\", current_node)\n",
        "        print(\"Open Set:\", [node for _, node in open_set])\n",
        "\n",
        "    return [], float('inf')  # No valid path found, return infinite cost\n",
        "\n",
        "# Example usage:\n",
        "grid = [\n",
        "    [0, 0, 0, 0],\n",
        "    [0, 0, 1, 0],\n",
        "    [0, 1, 0, 0],\n",
        "    [0, 0, 0, 0],\n",
        "    [0, 0, 0, 0]\n",
        "]\n",
        "\n",
        "path, total_cost = a_star(grid)\n",
        "print(\"Path:\", path)\n",
        "print(\"Total Cost:\", total_cost)"
      ]
    },
    {
      "cell_type": "code",
      "source": [],
      "metadata": {
        "id": "BWhEc3Ak8WsT"
      },
      "execution_count": null,
      "outputs": []
    }
  ]
}