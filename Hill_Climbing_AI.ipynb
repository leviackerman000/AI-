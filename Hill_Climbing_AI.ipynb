{
  "nbformat": 4,
  "nbformat_minor": 0,
  "metadata": {
    "colab": {
      "provenance": []
    },
    "kernelspec": {
      "name": "python3",
      "display_name": "Python 3"
    },
    "language_info": {
      "name": "python"
    }
  },
  "cells": [
    {
      "cell_type": "code",
      "execution_count": 20,
      "metadata": {
        "id": "stEAdddFWzt1"
      },
      "outputs": [],
      "source": [
        "# Python3 implementation of the\n",
        "from random import randint\n",
        "\n",
        "N = 8\n",
        "\n",
        "# A utility function that configures the 2D array \"board\" and array \"state\" randomly to provide a starting point for the algorithm.\n",
        "def configureRandomly(board, state):\n",
        "\n",
        "\t# Iterating through the column indices\n",
        "\tfor i in range(N):\n",
        "\n",
        "\t\t# Getting a random row index\n",
        "\t\tstate[i] = randint(0, 100000) % N;\n",
        "\n",
        "\t\t# Placing a queen on the obtained place in chessboard.\n",
        "\t\tboard[state[i]][i] = 1;\n",
        "\n",
        "# A utility function that prints the 2D array \"board\".\n",
        "def printBoard(board):\n",
        "\n",
        "\tfor i in range(N):\n",
        "\t\tprint(*board[i])\n",
        "\n",
        "# A utility function that prints the array \"state\".\n",
        "def printState( state):\n",
        "\tprint(*state)\n",
        "\n",
        "# A utility function that compares two arrays, state1 and state2 and returns True if equal and False otherwise.\n",
        "def compareStates(state1, state2):\n",
        "\n",
        "\n",
        "\tfor i in range(N):\n",
        "\t\tif (state1[i] != state2[i]):\n",
        "\t\t\treturn False;\n",
        "\n",
        "\treturn True;\n",
        "\n",
        "# A utility function that fills the 2D array \"board\" with values \"value\"\n",
        "def fill(board, value):\n",
        "\n",
        "\tfor i in range(N):\n",
        "\t\tfor j in range(N):\n",
        "\t\t\tboard[i][j] = value;"
      ]
    },
    {
      "cell_type": "code",
      "source": [
        "# This function calculates the objective value of the state(queens attacking each other) using the board by the following logic.\n",
        "def calculateObjective( board, state):\n",
        "\n",
        "\t# For each queen in a column, we check for other queens falling in the line of our current queen and if found,\n",
        "\t# any, then we increment the variable attacking count. Number of queens attacking each other, initially zero.\n",
        "\tattacking = 0;\n",
        "\n",
        "\t# Variables to index a particular\n",
        "\t# row and column on board.\n",
        "\tfor i in range(N):\n",
        "\n",
        "\t\t# At each column 'i', the queen is placed at row 'state[i]', by the definition of our state.\n",
        "\n",
        "\t\t# To the left of same row(row remains constant and col decreases)\n",
        "\t\trow = state[i]\n",
        "\t\tcol = i - 1;\n",
        "\t\twhile (col >= 0 and board[row][col] != 1) :\n",
        "\t\t\tcol -= 1\n",
        "\n",
        "\t\tif (col >= 0 and board[row][col] == 1) :\n",
        "\t\t\tattacking += 1;\n",
        "\n",
        "\t\t# To the right of same row (row remains constant and col increases)\n",
        "\t\trow = state[i]\n",
        "\t\tcol = i + 1;\n",
        "\t\twhile (col < N and board[row][col] != 1):\n",
        "\t\t\tcol += 1;\n",
        "\n",
        "\t\tif (col < N and board[row][col] == 1) :\n",
        "\t\t\tattacking += 1;\n",
        "\n",
        "\t\t# Diagonally to the left up (row and col simultaneously decrease)\n",
        "\t\trow = state[i] - 1\n",
        "\t\tcol = i - 1;\n",
        "\t\twhile (col >= 0 and row >= 0 and board[row][col] != 1) :\n",
        "\t\t\tcol-= 1;\n",
        "\t\t\trow-= 1;\n",
        "\n",
        "\t\tif (col >= 0 and row >= 0 and board[row][col] == 1) :\n",
        "\t\t\tattacking+= 1;\n",
        "\n",
        "\t\t# Diagonally to the right down (row and col simultaneously increase)\n",
        "\t\trow = state[i] + 1\n",
        "\t\tcol = i + 1;\n",
        "\t\twhile (col < N and row < N and board[row][col] != 1) :\n",
        "\t\t\tcol+= 1;\n",
        "\t\t\trow+= 1;\n",
        "\n",
        "\t\tif (col < N and row < N and board[row][col] == 1) :\n",
        "\t\t\tattacking += 1;\n",
        "\n",
        "\t\t# Diagonally to the left down (col decreases and row increases)\n",
        "\t\trow = state[i] + 1\n",
        "\t\tcol = i - 1;\n",
        "\t\twhile (col >= 0 and row < N and board[row][col] != 1) :\n",
        "\t\t\tcol -= 1;\n",
        "\t\t\trow += 1;\n",
        "\n",
        "\t\tif (col >= 0 and row < N and board[row][col] == 1) :\n",
        "\t\t\tattacking += 1;\n",
        "\n",
        "\t\t# Diagonally to the right up (col increases and row decreases)\n",
        "\t\trow = state[i] - 1\n",
        "\t\tcol = i + 1;\n",
        "\t\twhile (col < N and row >= 0 and board[row][col] != 1) :\n",
        "\t\t\tcol += 1;\n",
        "\t\t\trow -= 1;\n",
        "\n",
        "\t\tif (col < N and row >= 0 and board[row][col] == 1) :\n",
        "\t\t\tattacking += 1;\n",
        "\n",
        "\t# Return pairs.\n",
        "\treturn int(attacking / 2);"
      ],
      "metadata": {
        "id": "Y_HRwAdgY0vz"
      },
      "execution_count": 21,
      "outputs": []
    },
    {
      "cell_type": "code",
      "source": [
        "# A utility function that generates a board configuration given the state.\n",
        "def generateBoard( board, state):\n",
        "\tfill(board, 0);\n",
        "\tfor i in range(N):\n",
        "\t\tboard[state[i]][i] = 1;\n",
        "\n",
        "# A utility function that copies contents of state2 to state1.\n",
        "def copyState( state1, state2):\n",
        "\n",
        "\tfor i in range(N):\n",
        "\t\tstate1[i] = state2[i];"
      ],
      "metadata": {
        "id": "ZbdnqKida1Uu"
      },
      "execution_count": 22,
      "outputs": []
    },
    {
      "cell_type": "code",
      "source": [
        "def getNeighbour(board, state):\n",
        "    # Initialize optimal values\n",
        "    opBoard = [[0 for _ in range(N)] for _ in range(N)]\n",
        "    opState = state.copy()\n",
        "    generateBoard(opBoard, opState)\n",
        "    opObjective = calculateObjective(opBoard, opState)\n",
        "\n",
        "    # Explore neighbors\n",
        "    for i in range(N):\n",
        "        for j in range(N):\n",
        "            if j != state[i]:\n",
        "                # Create a temporary neighbor\n",
        "                tempState = state.copy()\n",
        "                tempState[i] = j\n",
        "                tempBoard = [[0 for _ in range(N)] for _ in range(N)]\n",
        "                generateBoard(tempBoard, tempState)\n",
        "\n",
        "                # Calculate objective value of the temporary neighbor\n",
        "                tempObjective = calculateObjective(tempBoard, tempState)\n",
        "\n",
        "                # Update optimal values if temporary is better\n",
        "                if tempObjective <= opObjective:\n",
        "                    opObjective = tempObjective\n",
        "                    opState = tempState.copy()\n",
        "                    generateBoard(opBoard, opState)\n",
        "\n",
        "    # Update current state with optimal values\n",
        "    state[:] = opState\n",
        "    fill(board, 0)\n",
        "    generateBoard(board, state)"
      ],
      "metadata": {
        "id": "KyPW6_KlavpJ"
      },
      "execution_count": 23,
      "outputs": []
    },
    {
      "cell_type": "code",
      "source": [
        "import random\n",
        "\n",
        "def hill_climbing(board, state):\n",
        "    while True:\n",
        "        neighbour_state = generate_neighbour_state(state)\n",
        "        if compare_states(state, neighbour_state):\n",
        "            print_board(board)\n",
        "            break\n",
        "        elif calculate_objective(board, state) == calculate_objective(board, neighbour_state):\n",
        "            neighbour_state[random.randint(0, N-1)] = random.randint(0, N-1)\n",
        "            state = neighbour_state\n",
        "            board = generate_board(state)"
      ],
      "metadata": {
        "id": "a-EkMJVBZN0B"
      },
      "execution_count": 24,
      "outputs": []
    },
    {
      "cell_type": "code",
      "source": [
        "# Driver code\n",
        "state = [0] * N\n",
        "board = [[0 for _ in range(N)] for _ in range(N)]\n",
        "\n",
        "# Getting a starting point by\n",
        "# randomly configuring the board\n",
        "configureRandomly(board, state);\n",
        "\n",
        "# Do hill climbing on the board obtained\n",
        "hillClimbing(board, state);"
      ],
      "metadata": {
        "id": "y70r8DqtZH9u",
        "outputId": "af346277-d860-4669-9812-360cb955c026",
        "colab": {
          "base_uri": "https://localhost:8080/"
        }
      },
      "execution_count": 25,
      "outputs": [
        {
          "output_type": "stream",
          "name": "stdout",
          "text": [
            "0 0 0 0 1 0 0 0\n",
            "0 0 0 0 0 0 1 0\n",
            "1 0 0 0 0 0 0 0\n",
            "0 0 0 1 0 0 0 0\n",
            "0 1 0 0 0 0 0 0\n",
            "0 0 0 0 0 0 0 1\n",
            "0 0 0 0 0 1 0 0\n",
            "0 0 1 0 0 0 0 0\n"
          ]
        }
      ]
    }
  ]
}